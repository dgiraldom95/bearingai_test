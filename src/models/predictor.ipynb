{
 "cells": [
  {
   "cell_type": "code",
   "execution_count": 1,
   "metadata": {},
   "outputs": [
    {
     "name": "stdout",
     "output_type": "stream",
     "text": [
      "                  Date  Latitude_degree  Longitude_degree Beaufort  \\\n",
      "0  2016-06-03 01:00:00        35.175000        141.595556   medium   \n",
      "1  2016-06-03 02:00:00        35.315833        141.884444   medium   \n",
      "2  2016-06-03 03:00:00        35.458333        142.121111   medium   \n",
      "3  2016-06-03 04:00:00        35.573611        142.548611   medium   \n",
      "4  2016-06-03 05:00:00        35.939722        142.768889   medium   \n",
      "\n",
      "   Speed(Ground)  M/E REVOLUTION    FOC  \n",
      "0           17.5              86    NaN  \n",
      "1           18.3              86  169.0  \n",
      "2           18.4              86  165.0  \n",
      "3           18.1              86  163.0  \n",
      "4           18.8              86  163.0  \n"
     ]
    }
   ],
   "source": [
    "from joblib import dump, load\n",
    "from datetime import datetime\n",
    "from sklearn.pipeline import Pipeline\n",
    "from sklearn.ensemble import RandomForestRegressor\n",
    "from sklearn.base import BaseEstimator, TransformerMixin\n",
    "from sklearn.tree import DecisionTreeRegressor\n",
    "from sklearn.svm import LinearSVR\n",
    "from sklearn.model_selection import GridSearchCV\n",
    "from sklearn.preprocessing import MinMaxScaler, OrdinalEncoder\n",
    "from sklearn.metrics import mean_squared_error\n",
    "from sklearn.compose import ColumnTransformer\n",
    "from sklearn.model_selection import train_test_split\n",
    "import pandas as pd\n",
    "import matplotlib.pyplot as plt\n",
    "from preprocessor import preprocessor\n",
    "\n",
    "\n",
    "plt.style.use(\"ggplot\")\n",
    "\n",
    "# Load training data\n",
    "dataset = pd.read_csv(\"./train.csv\")\n",
    "print(dataset.head())\n"
   ]
  },
  {
   "cell_type": "code",
   "execution_count": 2,
   "metadata": {},
   "outputs": [
    {
     "data": {
      "text/html": [
       "<div>\n",
       "<style scoped>\n",
       "    .dataframe tbody tr th:only-of-type {\n",
       "        vertical-align: middle;\n",
       "    }\n",
       "\n",
       "    .dataframe tbody tr th {\n",
       "        vertical-align: top;\n",
       "    }\n",
       "\n",
       "    .dataframe thead th {\n",
       "        text-align: right;\n",
       "    }\n",
       "</style>\n",
       "<table border=\"1\" class=\"dataframe\">\n",
       "  <thead>\n",
       "    <tr style=\"text-align: right;\">\n",
       "      <th></th>\n",
       "      <th>Latitude_degree</th>\n",
       "      <th>Longitude_degree</th>\n",
       "      <th>Speed(Ground)</th>\n",
       "      <th>M/E REVOLUTION</th>\n",
       "      <th>FOC</th>\n",
       "    </tr>\n",
       "  </thead>\n",
       "  <tbody>\n",
       "    <tr>\n",
       "      <th>count</th>\n",
       "      <td>20000.000000</td>\n",
       "      <td>20000.000000</td>\n",
       "      <td>20000.000000</td>\n",
       "      <td>20000.000000</td>\n",
       "      <td>19999.000000</td>\n",
       "    </tr>\n",
       "    <tr>\n",
       "      <th>mean</th>\n",
       "      <td>33.016999</td>\n",
       "      <td>-29.669950</td>\n",
       "      <td>14.024100</td>\n",
       "      <td>69.619350</td>\n",
       "      <td>131.696835</td>\n",
       "    </tr>\n",
       "    <tr>\n",
       "      <th>std</th>\n",
       "      <td>12.263632</td>\n",
       "      <td>129.761046</td>\n",
       "      <td>5.924093</td>\n",
       "      <td>29.264823</td>\n",
       "      <td>598.328438</td>\n",
       "    </tr>\n",
       "    <tr>\n",
       "      <th>min</th>\n",
       "      <td>6.571944</td>\n",
       "      <td>-180.195278</td>\n",
       "      <td>0.000000</td>\n",
       "      <td>0.000000</td>\n",
       "      <td>0.000000</td>\n",
       "    </tr>\n",
       "    <tr>\n",
       "      <th>25%</th>\n",
       "      <td>25.369792</td>\n",
       "      <td>-130.251736</td>\n",
       "      <td>13.400000</td>\n",
       "      <td>67.000000</td>\n",
       "      <td>87.500000</td>\n",
       "    </tr>\n",
       "    <tr>\n",
       "      <th>50%</th>\n",
       "      <td>34.795000</td>\n",
       "      <td>-80.924306</td>\n",
       "      <td>16.500000</td>\n",
       "      <td>83.000000</td>\n",
       "      <td>148.000000</td>\n",
       "    </tr>\n",
       "    <tr>\n",
       "      <th>75%</th>\n",
       "      <td>41.496181</td>\n",
       "      <td>138.181319</td>\n",
       "      <td>17.600000</td>\n",
       "      <td>87.000000</td>\n",
       "      <td>172.000000</td>\n",
       "    </tr>\n",
       "    <tr>\n",
       "      <th>max</th>\n",
       "      <td>54.626944</td>\n",
       "      <td>180.217500</td>\n",
       "      <td>22.100000</td>\n",
       "      <td>95.000000</td>\n",
       "      <td>77429.000000</td>\n",
       "    </tr>\n",
       "  </tbody>\n",
       "</table>\n",
       "</div>"
      ],
      "text/plain": [
       "       Latitude_degree  Longitude_degree  Speed(Ground)  M/E REVOLUTION  \\\n",
       "count     20000.000000      20000.000000   20000.000000    20000.000000   \n",
       "mean         33.016999        -29.669950      14.024100       69.619350   \n",
       "std          12.263632        129.761046       5.924093       29.264823   \n",
       "min           6.571944       -180.195278       0.000000        0.000000   \n",
       "25%          25.369792       -130.251736      13.400000       67.000000   \n",
       "50%          34.795000        -80.924306      16.500000       83.000000   \n",
       "75%          41.496181        138.181319      17.600000       87.000000   \n",
       "max          54.626944        180.217500      22.100000       95.000000   \n",
       "\n",
       "                FOC  \n",
       "count  19999.000000  \n",
       "mean     131.696835  \n",
       "std      598.328438  \n",
       "min        0.000000  \n",
       "25%       87.500000  \n",
       "50%      148.000000  \n",
       "75%      172.000000  \n",
       "max    77429.000000  "
      ]
     },
     "execution_count": 2,
     "metadata": {},
     "output_type": "execute_result"
    }
   ],
   "source": [
    "# Describe dataset\n",
    "dataset.describe()\n"
   ]
  },
  {
   "cell_type": "code",
   "execution_count": 3,
   "metadata": {},
   "outputs": [
    {
     "data": {
      "image/png": "[encoded data removed]",
      "text/plain": [
       "<Figure size 720x720 with 6 Axes>"
      ]
     },
     "metadata": {
      "needs_background": "light"
     },
     "output_type": "display_data"
    }
   ],
   "source": [
    "# Visualize dataset\n",
    "\n",
    "%matplotlib inline\n",
    "\n",
    "dataset.hist(bins = 50, figsize=(10, 10))\n",
    "\n",
    "plt.show()"
   ]
  },
  {
   "cell_type": "code",
   "execution_count": 4,
   "metadata": {},
   "outputs": [
    {
     "data": {
      "text/plain": [
       "<AxesSubplot:title={'center':'Beaufort'}>"
      ]
     },
     "execution_count": 4,
     "metadata": {},
     "output_type": "execute_result"
    },
    {
     "data": {
      "image/png": "[encoded data removed]",
      "text/plain": [
       "<Figure size 432x288 with 1 Axes>"
      ]
     },
     "metadata": {
      "needs_background": "light"
     },
     "output_type": "display_data"
    }
   ],
   "source": [
    "dataset[\"Beaufort\"].value_counts().plot(kind=\"bar\", title=\"Beaufort\")\n"
   ]
  },
  {
   "cell_type": "code",
   "execution_count": 5,
   "metadata": {},
   "outputs": [
    {
     "data": {
      "text/html": [
       "<div>\n",
       "<style scoped>\n",
       "    .dataframe tbody tr th:only-of-type {\n",
       "        vertical-align: middle;\n",
       "    }\n",
       "\n",
       "    .dataframe tbody tr th {\n",
       "        vertical-align: top;\n",
       "    }\n",
       "\n",
       "    .dataframe thead th {\n",
       "        text-align: right;\n",
       "    }\n",
       "</style>\n",
       "<table border=\"1\" class=\"dataframe\">\n",
       "  <thead>\n",
       "    <tr style=\"text-align: right;\">\n",
       "      <th></th>\n",
       "      <th>Latitude_degree</th>\n",
       "      <th>Longitude_degree</th>\n",
       "      <th>Speed(Ground)</th>\n",
       "      <th>M/E REVOLUTION</th>\n",
       "      <th>FOC</th>\n",
       "    </tr>\n",
       "  </thead>\n",
       "  <tbody>\n",
       "    <tr>\n",
       "      <th>Latitude_degree</th>\n",
       "      <td>1.000000</td>\n",
       "      <td>0.144748</td>\n",
       "      <td>-0.052138</td>\n",
       "      <td>-0.029344</td>\n",
       "      <td>0.001699</td>\n",
       "    </tr>\n",
       "    <tr>\n",
       "      <th>Longitude_degree</th>\n",
       "      <td>0.144748</td>\n",
       "      <td>1.000000</td>\n",
       "      <td>-0.146297</td>\n",
       "      <td>-0.128991</td>\n",
       "      <td>0.001488</td>\n",
       "    </tr>\n",
       "    <tr>\n",
       "      <th>Speed(Ground)</th>\n",
       "      <td>-0.052138</td>\n",
       "      <td>-0.146297</td>\n",
       "      <td>1.000000</td>\n",
       "      <td>0.982161</td>\n",
       "      <td>0.082622</td>\n",
       "    </tr>\n",
       "    <tr>\n",
       "      <th>M/E REVOLUTION</th>\n",
       "      <td>-0.029344</td>\n",
       "      <td>-0.128991</td>\n",
       "      <td>0.982161</td>\n",
       "      <td>1.000000</td>\n",
       "      <td>0.083874</td>\n",
       "    </tr>\n",
       "    <tr>\n",
       "      <th>FOC</th>\n",
       "      <td>0.001699</td>\n",
       "      <td>0.001488</td>\n",
       "      <td>0.082622</td>\n",
       "      <td>0.083874</td>\n",
       "      <td>1.000000</td>\n",
       "    </tr>\n",
       "  </tbody>\n",
       "</table>\n",
       "</div>"
      ],
      "text/plain": [
       "                  Latitude_degree  Longitude_degree  Speed(Ground)  \\\n",
       "Latitude_degree          1.000000          0.144748      -0.052138   \n",
       "Longitude_degree         0.144748          1.000000      -0.146297   \n",
       "Speed(Ground)           -0.052138         -0.146297       1.000000   \n",
       "M/E REVOLUTION          -0.029344         -0.128991       0.982161   \n",
       "FOC                      0.001699          0.001488       0.082622   \n",
       "\n",
       "                  M/E REVOLUTION       FOC  \n",
       "Latitude_degree        -0.029344  0.001699  \n",
       "Longitude_degree       -0.128991  0.001488  \n",
       "Speed(Ground)           0.982161  0.082622  \n",
       "M/E REVOLUTION          1.000000  0.083874  \n",
       "FOC                     0.083874  1.000000  "
      ]
     },
     "execution_count": 5,
     "metadata": {},
     "output_type": "execute_result"
    }
   ],
   "source": [
    "dataset.corr()"
   ]
  },
  {
   "cell_type": "code",
   "execution_count": 6,
   "metadata": {},
   "outputs": [
    {
     "name": "stdout",
     "output_type": "stream",
     "text": [
      "(19999, 6)\n",
      "(19999,)\n"
     ]
    }
   ],
   "source": [
    "# Split X and y variables, remove empty FOC values\n",
    "dataset = dataset.dropna(subset=[\"FOC\"])\n",
    "\n",
    "feature_cols = [\n",
    "    \"Latitude_degree\",\n",
    "    \"Longitude_degree\",\n",
    "    \"Beaufort\",\n",
    "    \"Speed(Ground)\",\n",
    "    \"M/E REVOLUTION\",\n",
    "    \"Date\",\n",
    "]\n",
    "\n",
    "X = dataset.loc[:, feature_cols]\n",
    "y = dataset.FOC\n",
    "\n",
    "print(X.shape)\n",
    "print(y.shape)\n"
   ]
  },
  {
   "cell_type": "code",
   "execution_count": 7,
   "metadata": {},
   "outputs": [
    {
     "name": "stdout",
     "output_type": "stream",
     "text": [
      "(15999, 6) (4000, 6)\n"
     ]
    }
   ],
   "source": [
    "# Split train and test\n",
    "X_train, X_test, y_train, y_test = train_test_split(\n",
    "    X, y, test_size=0.2, random_state=10\n",
    ")\n",
    "\n",
    "print(X_train.shape, X_test.shape)\n"
   ]
  },
  {
   "cell_type": "code",
   "execution_count": 8,
   "metadata": {},
   "outputs": [],
   "source": [
    "# X_train[\"date_parsed\"] = pd.to_datetime(X_train[\"Date\"])\n",
    "\n",
    "# X_train[\"year\"] = X_train[\"date_parsed\"].apply(lambda date: date.year)\n",
    "# X_train[\"month\"] = X_train[\"date_parsed\"].apply(lambda date: date.month)\n",
    "# X_train[\"day\"] = X_train[\"date_parsed\"].apply(lambda date: date.day)\n",
    "# X_train[\"hour\"] = X_train[\"date_parsed\"].apply(lambda date: date.hour)\n",
    "# print(X_train.head())\n"
   ]
  },
  {
   "cell_type": "code",
   "execution_count": 9,
   "metadata": {},
   "outputs": [
    {
     "name": "stderr",
     "output_type": "stream",
     "text": [
      "/Users/daniel/Documents/t/activate/lib/python3.8/site-packages/sklearn/svm/_base.py:1225: ConvergenceWarning: Liblinear failed to converge, increase the number of iterations.\n",
      "  warnings.warn(\n",
      "/Users/daniel/Documents/t/activate/lib/python3.8/site-packages/sklearn/svm/_base.py:1225: ConvergenceWarning: Liblinear failed to converge, increase the number of iterations.\n",
      "  warnings.warn(\n",
      "/Users/daniel/Documents/t/activate/lib/python3.8/site-packages/sklearn/svm/_base.py:1225: ConvergenceWarning: Liblinear failed to converge, increase the number of iterations.\n",
      "  warnings.warn(\n",
      "/Users/daniel/Documents/t/activate/lib/python3.8/site-packages/sklearn/svm/_base.py:1225: ConvergenceWarning: Liblinear failed to converge, increase the number of iterations.\n",
      "  warnings.warn(\n",
      "/Users/daniel/Documents/t/activate/lib/python3.8/site-packages/sklearn/svm/_base.py:1225: ConvergenceWarning: Liblinear failed to converge, increase the number of iterations.\n",
      "  warnings.warn(\n"
     ]
    },
    {
     "name": "stdout",
     "output_type": "stream",
     "text": [
      "Best score: 0.17107244023505846\n",
      "Best params: {}\n"
     ]
    },
    {
     "name": "stderr",
     "output_type": "stream",
     "text": [
      "/Users/daniel/Documents/t/activate/lib/python3.8/site-packages/sklearn/svm/_base.py:1225: ConvergenceWarning: Liblinear failed to converge, increase the number of iterations.\n",
      "  warnings.warn(\n"
     ]
    }
   ],
   "source": [
    "X_train = preprocessor.fit_transform(X_train)\n",
    "dump(preprocessor, 'preprocessor.joblib')\n",
    "\n",
    "pipe = Pipeline(\n",
    "    [\n",
    "        (\"forest\", LinearSVR(max_iter=10000)),\n",
    "    ]\n",
    ")\n",
    "\n",
    "# param_grid = {\n",
    "#     \"forest__n_estimators\": [10, 20, 50, 100],\n",
    "#     \"forest__max_depth\": [5, 10, 20, 50, None],\n",
    "# }\n",
    "# param_grid = {\"forest__max_depth\": [10, 20, 100]}\n",
    "param_grid = {}\n",
    "\n",
    "\n",
    "search = GridSearchCV(pipe, param_grid, n_jobs=8)\n",
    "search.fit(X_train, y_train)\n",
    "\n",
    "print(f\"Best score: {search.best_score_}\")\n",
    "print(f\"Best params: {search.best_params_}\")\n",
    "\n",
    "model = search.best_estimator_\n",
    "\n",
    "# model = pipe\n",
    "# model.fit(X_train, y_train)\n"
   ]
  },
  {
   "cell_type": "code",
   "execution_count": 10,
   "metadata": {},
   "outputs": [
    {
     "name": "stdout",
     "output_type": "stream",
     "text": [
      "15489.638422930919\n"
     ]
    }
   ],
   "source": [
    "X_test = preprocessor.transform(X_test)\n",
    "\n",
    "predictions = model.predict(X_test)\n",
    "mse = mean_squared_error(predictions, y_test)\n",
    "\n",
    "print(mse)\n",
    "# [print(f\"{y1} {y2}\") for (y1, y2) in zip(predictions, y_test)]\n"
   ]
  },
  {
   "cell_type": "code",
   "execution_count": 11,
   "metadata": {},
   "outputs": [
    {
     "data": {
      "text/plain": [
       "0.15067252278976995"
      ]
     },
     "execution_count": 11,
     "metadata": {},
     "output_type": "execute_result"
    }
   ],
   "source": [
    "model.score(X_test, y_test)\n"
   ]
  },
  {
   "cell_type": "code",
   "execution_count": 12,
   "metadata": {},
   "outputs": [
    {
     "data": {
      "text/plain": [
       "['./predictor.joblib']"
      ]
     },
     "execution_count": 12,
     "metadata": {},
     "output_type": "execute_result"
    }
   ],
   "source": [
    "dump(model, './predictor.joblib')"
   ]
  }
 ],
 "metadata": {
  "interpreter": {
   "hash": "b03382754372d274308fe485ae0527064c835ca135b976ec1e8240856a2c472c"
  },
  "kernelspec": {
   "display_name": "Python 3.8.9 ('activate': venv)",
   "language": "python",
   "name": "python3"
  },
  "language_info": {
   "codemirror_mode": {
    "name": "ipython",
    "version": 3
   },
   "file_extension": ".py",
   "mimetype": "text/x-python",
   "name": "python",
   "nbconvert_exporter": "python",
   "pygments_lexer": "ipython3",
   "version": "3.8.9"
  },
  "orig_nbformat": 4
 },
 "nbformat": 4,
 "nbformat_minor": 2
}
